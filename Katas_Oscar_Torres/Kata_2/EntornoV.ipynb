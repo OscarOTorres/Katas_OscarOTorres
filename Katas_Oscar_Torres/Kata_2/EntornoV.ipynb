{
 "cells": [
  {
   "cell_type": "markdown",
   "metadata": {},
   "source": [
    "# Entorno Virtual"
   ]
  },
  {
   "cell_type": "markdown",
   "metadata": {},
   "source": [
    "### Para crear un entorno virtual es necesario tener un repocitorio especifico"
   ]
  },
  {
   "cell_type": "markdown",
   "metadata": {},
   "source": [
    "En mi caso estara ubicado en mis documentos en una carpeta llamada VEnv2"
   ]
  },
  {
   "cell_type": "markdown",
   "metadata": {},
   "source": [
    "<img src=\"Imagenes/Repo.jpg\">"
   ]
  },
  {
   "cell_type": "markdown",
   "metadata": {},
   "source": [
    "Entraremos al cmd para Windows presionando la convinación de trclas __Windows + R__ y escribimos la palabra __cmd__"
   ]
  },
  {
   "cell_type": "markdown",
   "metadata": {},
   "source": [
    "<img src=\"Imagenes/cmd.jpg\">"
   ]
  },
  {
   "cell_type": "markdown",
   "metadata": {},
   "source": [
    "<img src=\"Imagenes/abierto.jpg\">"
   ]
  },
  {
   "cell_type": "markdown",
   "metadata": {},
   "source": [
    "Ahi nos dirigimos al repositorio donde se hara el entorno virtual con el comando __cd__ y la ruta del repositorio."
   ]
  },
  {
   "cell_type": "markdown",
   "metadata": {},
   "source": [
    "<img src=\"Imagenes/cd.jpg\">"
   ]
  },
  {
   "cell_type": "markdown",
   "metadata": {},
   "source": [
    "Estando en el repositorio correcto procedemos a instalar nuestro entorno virtual con el comando __python3 -m venv env__ "
   ]
  },
  {
   "cell_type": "markdown",
   "metadata": {},
   "source": [
    "<img src=\"Imagenes/Python.jpg\">"
   ]
  },
  {
   "cell_type": "markdown",
   "metadata": {},
   "source": [
    "Nos cambia la ruta con un __(env)__ al inicio de la ruta donde estamos trabajando ya que lo activamos mediante la ejecución de alrchivo que se genero con __python3 -m venv env__. Con la siguiente ruta que en mi caso es __env\\Scripts\\activate__ "
   ]
  },
  {
   "cell_type": "markdown",
   "metadata": {},
   "source": [
    "<img src=\"Imagenes/activite.jpg\">"
   ]
  },
  {
   "cell_type": "markdown",
   "metadata": {},
   "source": [
    "Aqui podemos instalar librerias para la ejecucion de nuestros programas, mediante __pip install__ podemos instalarlos en este ejemplo sera __pip install python-dateutil__"
   ]
  },
  {
   "cell_type": "markdown",
   "metadata": {},
   "source": [
    "<img src=\"Imagenes/install.jpg\">"
   ]
  },
  {
   "cell_type": "markdown",
   "metadata": {},
   "source": [
    "Lo que aparece en amarillo solo indica que la version de pip no esta actualizada pero la instalacion de la libreria __dateutil__ esta correctamente hecha."
   ]
  },
  {
   "cell_type": "markdown",
   "metadata": {},
   "source": [
    "Con el comando __pip freeze__ se puede tener la vista de todas las librerias que estan instaladas en nuestro entorno virtual."
   ]
  },
  {
   "cell_type": "markdown",
   "metadata": {},
   "source": [
    "<img src=\"Imagenes/freeze.jpg\">"
   ]
  },
  {
   "cell_type": "markdown",
   "metadata": {},
   "source": [
    "Por ultimo cerramos el entorno virtual con el comando __deactivate__."
   ]
  },
  {
   "cell_type": "markdown",
   "metadata": {},
   "source": [
    "<img src=\"Imagenes/salir.jpg\">"
   ]
  }
 ],
 "metadata": {
  "language_info": {
   "name": "python"
  },
  "orig_nbformat": 4
 },
 "nbformat": 4,
 "nbformat_minor": 2
}
