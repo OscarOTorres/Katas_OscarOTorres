{
 "cells": [
  {
   "cell_type": "markdown",
   "metadata": {},
   "source": [
    "# Un asteroide se aproxima a gran velocidad\n"
   ]
  },
  {
   "cell_type": "code",
   "execution_count": null,
   "metadata": {},
   "outputs": [],
   "source": [
    "velocidad = 25\n",
    "if velocidad >= 25:\n",
    "    print(\"advertencia, un asteroide se acerca a la tierra.\")\n",
    "else:\n",
    "    print(\"no hay nada que reportar\")"
   ]
  },
  {
   "cell_type": "markdown",
   "metadata": {},
   "source": [
    "# Un bonito espectaculo"
   ]
  },
  {
   "cell_type": "code",
   "execution_count": null,
   "metadata": {},
   "outputs": [],
   "source": [
    "velocidad =20\n",
    "if velocidad >19:  \n",
    "    print(\"Deben de buscar un asteroide en el cielo, ¡hay uno que se dirige a la tierra a un a velocidad de 19 km/s\")\n",
    "elif velocidad == 20:\n",
    "    print(\"Deben de buscar un asteroide en el cielo, ¡hay uno que se dirige a la tierra a un a velocidad de 19 km/s\")\n",
    "else: \n",
    "    print(\" no hay nada que ver\")"
   ]
  },
  {
   "cell_type": "markdown",
   "metadata": {},
   "source": [
    "# Un asteroide de gran tamaño"
   ]
  },
  {
   "cell_type": "code",
   "execution_count": null,
   "metadata": {},
   "outputs": [],
   "source": [
    "velocidad= 20\n",
    "tamaño = 20\n",
    "if velocidad >=20 and velocidad<25 and tamaño<25:\n",
    "    print(\"un asteroide se aproxima a la tierra, no hay riesgo pero si un bello espectaculo\")\n",
    "else:\n",
    "    if velocidad>=25 and tamaño >=25:\n",
    "        print(\"¡ALERTA! Un asteroide de mas de 25 metros  se aporxima a una velocidad de mas de 25 kilometros por segundo. \")"
   ]
  }
 ],
 "metadata": {
  "interpreter": {
   "hash": "8ff13a81f95f9ee64643fb0071c75a084960ff3fad58289f23c12be2c68070fe"
  },
  "kernelspec": {
   "display_name": "Python 3.8.8 ('base')",
   "language": "python",
   "name": "python3"
  },
  "language_info": {
   "name": "python",
   "version": "3.8.8"
  },
  "orig_nbformat": 4
 },
 "nbformat": 4,
 "nbformat_minor": 2
}
