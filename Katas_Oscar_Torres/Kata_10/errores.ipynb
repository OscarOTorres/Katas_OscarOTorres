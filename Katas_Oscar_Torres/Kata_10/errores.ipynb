{
 "cells": [
  {
   "cell_type": "code",
   "execution_count": 6,
   "metadata": {},
   "outputs": [
    {
     "name": "stdout",
     "output_type": "stream",
     "text": [
      "no pudimos encontrar cola.txt  sorry! [Errno 2] No such file or directory: 'cola.txt'\n"
     ]
    }
   ],
   "source": [
    "nombre=input(\"que archivo buscas?\")\n",
    "completo= nombre + \".txt\"\n",
    "try:\n",
    "    \n",
    "    f= open(completo)\n",
    "    \n",
    "except FileNotFoundError as err: \n",
    "        print(F\"no pudimos encontrar {completo}  sorry!\", err)\n",
    "except IsADirectoryError:\n",
    "        print(\"No hay permisos sufucientes para leer el archivo\")\n",
    "    "
   ]
  }
 ],
 "metadata": {
  "interpreter": {
   "hash": "8ff13a81f95f9ee64643fb0071c75a084960ff3fad58289f23c12be2c68070fe"
  },
  "kernelspec": {
   "display_name": "Python 3.8.8 ('base')",
   "language": "python",
   "name": "python3"
  },
  "language_info": {
   "codemirror_mode": {
    "name": "ipython",
    "version": 3
   },
   "file_extension": ".py",
   "mimetype": "text/x-python",
   "name": "python",
   "nbconvert_exporter": "python",
   "pygments_lexer": "ipython3",
   "version": "3.8.8"
  },
  "orig_nbformat": 4
 },
 "nbformat": 4,
 "nbformat_minor": 2
}
